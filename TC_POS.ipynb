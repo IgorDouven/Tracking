{
 "cells": [
  {
   "cell_type": "markdown",
   "metadata": {},
   "source": [
    "## Tracking confirmation"
   ]
  },
  {
   "cell_type": "code",
   "execution_count": null,
   "metadata": {},
   "outputs": [],
   "source": [
    "using HypothesisTests, PlotlyJS, ORCA"
   ]
  },
  {
   "cell_type": "code",
   "execution_count": null,
   "metadata": {},
   "outputs": [],
   "source": [
    "using Distributed\n",
    "addprocs()\n",
    "@everywhere using Distributions, DataFrames, StatsBase, RCall"
   ]
  },
  {
   "cell_type": "code",
   "execution_count": null,
   "metadata": {},
   "outputs": [],
   "source": [
    "@everywhere R\"\"\"\n",
    "suppressMessages(suppressWarnings(library(ROCR)))\n",
    "suppressMessages(suppressWarnings(library(BayesFactor)))\n",
    "\"\"\""
   ]
  },
  {
   "cell_type": "markdown",
   "metadata": {},
   "source": [
    "We consider the most common measures of confirmation."
   ]
  },
  {
   "cell_type": "code",
   "execution_count": null,
   "metadata": {},
   "outputs": [],
   "source": [
    "@everywhere begin\n",
    "    dif(v::Vector{Float64}, X::Vector{Int64}, Z::Vector{Int64}) = sum(v[X ∩ Z]) / sum(v[Z]) - sum(v[X])\n",
    "    \n",
    "    finch(v::Vector{Float64}, X::Vector{Int64}, Z::Vector{Int64}) = (sum(v[X ∩ Z]) / sum(v[Z])) / sum(v[X]) - 1\n",
    "    \n",
    "    function deltp(v::Vector{Float64}, X::Vector{Int64}, Z::Vector{Int64})\n",
    "        notZ = setdiff(collect(1:length(v)), Z)\n",
    "        sum(v[X ∩ Z]) / sum(v[Z]) - sum(v[X ∩ notZ]) / sum(v[notZ])\n",
    "    end\n",
    "\n",
    "    function carn(v::Vector{Float64}, X::Vector{Int64}, Z::Vector{Int64})\n",
    "      sum(v[X ∩ Z]) - sum(v[Z]) * sum(v[X])\n",
    "    end\n",
    "\n",
    "    function ctg_0(v::Vector{Float64}, X::Vector{Int64}, Z::Vector{Int64})\n",
    "        notX = setdiff(collect(1:length(v)), X)\n",
    "        rel = dif(v, X, Z) / sum(v[notX])\n",
    "        irr = dif(v, X, Z) / sum(v[X])\n",
    "        return dif(v, X, Z) >= 0 ? rel : irr\n",
    "    end\n",
    "\n",
    "    function ctg(v::Vector{Float64}, X::Vector{Int64}, Z::Vector{Int64}, α::Float64)\n",
    "        dif(v, X, Z) >= 0 ? ctg_0(v, X, Z)^α : -(abs(ctg_0(v, X, Z))^α)\n",
    "    end\n",
    "\n",
    "    function lrt(v::Vector{Float64}, X::Vector{Int64}, Z::Vector{Int64})\n",
    "        notX = setdiff(collect(1:length(v)), X)\n",
    "        if isapprox(sum(v[X]), 0., atol=10^-14) || isapprox(sum(v[X]), 1., atol=10^-14) || isapprox(sum(v[notX ∩ Z]), 0., atol=10^-14)\n",
    "            return missing\n",
    "        else\n",
    "            return (sum(v[X ∩ Z]) / sum(v[X])) / (sum(v[notX ∩ Z]) / sum(v[notX]))\n",
    "        end\n",
    "    end\n",
    "\n",
    "    #= in 'causality in the mind', cheng defines her measure on p230, in equations 9.1 and 9.2; note that in the second, she actually \n",
    "    defines the 'preventive' power of the cause; this is the negative of the 'generative' power, which we need for the regressions; therefore \n",
    "    there is no minus sign in the else clause below =# \n",
    "    function cheng(v::Vector{Float64}, X::Vector{Int64}, Z::Vector{Int64})\n",
    "        notZ = setdiff(collect(1:length(v)), Z)\n",
    "        return deltp(v, X, Z) >= 0 ? deltp(v, X, Z) / (1 - (sum(v[X ∩ notZ]) / sum(v[notZ]))) : deltp(v, X, Z) / (sum(v[X ∩ notZ]) / sum(v[notZ]))\n",
    "    end\n",
    "    \n",
    "    function noz(v::Vector{Float64}, X::Vector{Int64}, Z::Vector{Int64})\n",
    "        notX = setdiff(collect(1:length(v)), X)\n",
    "        (sum(v[X ∩ Z]) / sum(v[X])) - (sum(v[notX ∩ Z]) / sum(v[notX]))\n",
    "    end\n",
    "    \n",
    "    mort(v::Vector{Float64}, X::Vector{Int64}, Z::Vector{Int64}) = sum(v[X ∩ Z]) / sum(v[X]) - sum(v[Z])\n",
    "    \n",
    "    function ko(v::Vector{Float64}, X::Vector{Int64}, Z::Vector{Int64})\n",
    "        notX = setdiff(collect(1:length(v)), X)\n",
    "        (sum(v[X ∩ Z]) / sum(v[X]) - sum(v[notX ∩ Z]) / sum(v[notX])) / (sum(v[X ∩ Z]) / sum(v[X]) + sum(v[notX ∩ Z]) / sum(v[notX]))\n",
    "    end\n",
    "\n",
    "    function rips(v::Vector{Float64}, X::Vector{Int64}, Z::Vector{Int64})\n",
    "        notX = setdiff(collect(1:length(v)), X)\n",
    "        return dif(v, X, Z) / sum(v[notX])\n",
    "    end \n",
    "end"
   ]
  },
  {
   "cell_type": "markdown",
   "metadata": {},
   "source": [
    "## Pick actual world randomly, unweighted"
   ]
  },
  {
   "cell_type": "markdown",
   "metadata": {},
   "source": [
    "We randomly pick the number of possible worlds, the actual world, and two hypotheses, where we think about one as potential evidence for the other. We make sure the evidence is veridical and that both hypotheses are nontrivial. We then register the degree to which the evidence supports the target hypothesis (given a measure of confirmation), and whether the target hypothesis is true. Finally, we conduct a logistic regression for each measure, using the registered truth values as outcome variable and the registered degrees of support as predictor variable."
   ]
  },
  {
   "cell_type": "code",
   "execution_count": null,
   "metadata": {},
   "outputs": [],
   "source": [
    "@everywhere function confSim(ν::Int64)\n",
    "    @assert ν > 3 # no. of worlds with a minimum of 4\n",
    "    μ   = rand(1:ν-1) # no. of worlds in H, making sure H is not a tautology\n",
    "    κ   = rand(1:ν-1) # no. of worlds in E, making sure E is not a tautology\n",
    "    ϕ   = sample(1:ν, μ, replace=false) # which possible worlds are in H\n",
    "    ζ   = sample(1:ν, κ, replace=false) # which possible worlds are in E\n",
    "    τ   = sample(ζ) # pick the actual world, making sure E is veridical\n",
    "    d   = rand(Dirichlet(ν, 1.))\n",
    "    b   = issubset(τ, ϕ)\n",
    "    dc  = dif(d, ϕ, ζ)\n",
    "    dp  = deltp(d, ϕ, ζ)\n",
    "    cc  = carn(d, ϕ, ζ)\n",
    "    cr  = ctg(d, ϕ, ζ, 1.)\n",
    "    lr  = lrt(d, ϕ, ζ)\n",
    "    che = cheng(d, ϕ, ζ)\n",
    "    rp  = rips(d, ϕ, ζ)\n",
    "    kop = ko(d, ϕ, ζ)\n",
    "    nz  = noz(d, ϕ, ζ)\n",
    "    mr  = mort(d, ϕ, ζ)\n",
    "    fn  = finch(d, ϕ, ζ)\n",
    "    return b, cc, dp, cr, dc, fn, kop, lr, mr, nz, rp, che\n",
    " end;"
   ]
  },
  {
   "cell_type": "markdown",
   "metadata": {},
   "source": [
    "The following function runs a logistic regression for each measure and outputs the AUC value."
   ]
  },
  {
   "cell_type": "code",
   "execution_count": null,
   "metadata": {},
   "outputs": [],
   "source": [
    "@everywhere function lrMod(i::Int64, df::DataFrame)\n",
    "    dfn   = DataFrame(DV = df[!, 1], IV = df[!, i + 1])\n",
    "    @rput dfn\n",
    "    R\"\"\"\n",
    "    m <- suppressWarnings(glm(DV ~ scale(IV), family = binomial(link = \"logit\"), na.action = na.exclude, data = dfn))\n",
    "    prob <- predict(m, type=c('response'))\n",
    "    pred <- prediction(prob, dfn$DV)\n",
    "    auc <- performance(pred, 'auc')@y.values\n",
    "    \"\"\"\n",
    "    return @rget auc\n",
    "end;"
   ]
  },
  {
   "cell_type": "code",
   "execution_count": null,
   "metadata": {},
   "outputs": [],
   "source": [
    "@everywhere function sims(n_worlds::Int64)\n",
    "    res   = [ confSim(n_worlds) for _ in 1:1000 ]\n",
    "    df_cf = DataFrame(res)\n",
    "    return [ lrMod(i, df_cf)[1] for i in 1:size(df_cf, 2) - 1 ]\n",
    "end;"
   ]
  },
  {
   "cell_type": "code",
   "execution_count": null,
   "metadata": {},
   "outputs": [],
   "source": [
    "function run_sim(numb_sim::Int64)\n",
    "    out_ar = Array{Float64,3}(undef, 11, 20, numb_sim)\n",
    "    for i in 1:numb_sim\n",
    "        out_ar[:, :, i] = @distributed (hcat) for n in 5:5:100\n",
    "            sims(n)\n",
    "        end\n",
    "    end\n",
    "    return out_ar\n",
    "end"
   ]
  },
  {
   "cell_type": "code",
   "execution_count": null,
   "metadata": {},
   "outputs": [],
   "source": [
    "out_ar = run_sim(250);"
   ]
  },
  {
   "cell_type": "code",
   "execution_count": null,
   "metadata": {},
   "outputs": [],
   "source": [
    "[ pvalue(EqualVarianceTTest(out_ar[3, i, :], out_ar[6, i, :])) for i in 1:20 ]"
   ]
  },
  {
   "cell_type": "code",
   "execution_count": null,
   "metadata": {},
   "outputs": [],
   "source": [
    "[ pvalue(EqualVarianceTTest(out_ar[3, i, :], out_ar[11, i, :])) for i in 1:20 ]"
   ]
  },
  {
   "cell_type": "code",
   "execution_count": null,
   "metadata": {},
   "outputs": [],
   "source": [
    "function bayes_t_test(data, meas1, meas2, col)\n",
    "    @rput data\n",
    "    @rput meas1\n",
    "    @rput meas2\n",
    "    @rput col\n",
    "    R\"\"\"\n",
    "    x <- data[meas1, col, ]\n",
    "    y <- data[meas2, col, ]\n",
    "    tt <- suppressMessages(suppressWarnings(extractBF(ttestBF(x = x, y = y), onlybf=TRUE)))\n",
    "    \"\"\"\n",
    "    return @rget tt\n",
    "end"
   ]
  },
  {
   "cell_type": "code",
   "execution_count": null,
   "metadata": {},
   "outputs": [],
   "source": [
    "[ bayes_t_test(out_ar, 3, 6, i) for i in 1:20 ]"
   ]
  },
  {
   "cell_type": "code",
   "execution_count": null,
   "metadata": {},
   "outputs": [],
   "source": [
    "[ bayes_t_test(out_ar, 3, 11, i) for i in 1:20 ]"
   ]
  },
  {
   "cell_type": "code",
   "execution_count": null,
   "metadata": {},
   "outputs": [],
   "source": [
    "out_auc = mean(out_ar, dims=3);"
   ]
  },
  {
   "cell_type": "code",
   "execution_count": null,
   "metadata": {},
   "outputs": [],
   "source": [
    "function aucPlot()\n",
    "    trace1  = scatter(x=5:5:100, y=out_auc[1, :], mode=\"lines\", name=\"c\")\n",
    "    trace2  = scatter(x=5:5:100, y=out_auc[2, :], mode=\"lines\", name=\"s\")\n",
    "    trace3  = scatter(x=5:5:100, y=out_auc[3, :], mode=\"lines\", name=\"z\")\n",
    "    trace4  = scatter(x=5:5:100, y=out_auc[4, :], mode=\"lines\", name=\"d\")\n",
    "    trace5  = scatter(x=5:5:100, y=out_auc[5, :], mode=\"lines\", name=\"r\")\n",
    "    trace6  = scatter(x=5:5:100, y=out_auc[6, :], mode=\"lines\", name=\"k\")\n",
    "    trace7  = scatter(x=5:5:100, y=out_auc[7, :], mode=\"lines\", name=\"l\")\n",
    "    trace8  = scatter(x=5:5:100, y=out_auc[8, :], mode=\"lines\", name=\"m\")\n",
    "    trace9  = scatter(x=5:5:100, y=out_auc[9, :], mode=\"lines\", name=\"n\")\n",
    "    trace10 = scatter(x=5:5:100, y=out_auc[10, :], mode=\"lines\", name=\"g\")\n",
    "    layout  = Layout(width=850, height=510, margin=attr(l=70, r=10, t=10, b=70), \n",
    "                     xaxis=attr(title=\"Number of worlds\", tickfont=attr(size=18)), yaxis=attr(tickfont=attr(size=18)), font_size=20, \n",
    "                     annotations=[(x=-0.1, y=.5, xref=\"paper\", yref=\"paper\", text=\"AUC\", showarrow=false, textangle=-90, font=Dict(size=>21))])\n",
    "    data    = [trace1, trace4, trace10, trace6, trace7, trace8, trace9, trace5, trace2, trace3]\n",
    "    Plot(data, layout)\n",
    "end\n",
    "p = aucPlot()"
   ]
  },
  {
   "cell_type": "code",
   "execution_count": null,
   "metadata": {},
   "outputs": [],
   "source": [
    "savefig(p, \"auc_without_rev.pdf\");"
   ]
  },
  {
   "cell_type": "code",
   "execution_count": null,
   "metadata": {},
   "outputs": [],
   "source": [
    "function aucPlot1()\n",
    "    trace3  = scatter(x=5:5:100, y=out_auc[3, :], mode=\"lines\", name=\"z\")\n",
    "    trace6  = scatter(x=5:5:100, y=[], mode=\"lines\", name=\"k\")\n",
    "    trace11 = scatter(x=5:5:100, y=out_auc[11, :], mode=\"lines\", name=\"ch\")\n",
    "    layout  = Layout(width=850, height=510, margin=attr(l=70, r=10, t=10, b=70), \n",
    "                     xaxis=attr(title=\"Number of worlds\", tickfont=attr(size=18)), yaxis=attr(tickfont=attr(size=18)), font_size=20, \n",
    "                     annotations=[(x=-0.1, y=.5, xref=\"paper\", yref=\"paper\", text=\"AUC\", showarrow=false, textangle=-90, font=Dict(size=>21))])\n",
    "    data    = [trace11, trace6, trace3]\n",
    "    Plot(data, layout)\n",
    "end\n",
    "q = aucPlot1()"
   ]
  },
  {
   "cell_type": "code",
   "execution_count": null,
   "metadata": {},
   "outputs": [],
   "source": [
    "savefig(q, \"auc_with_rev_var.pdf\");"
   ]
  },
  {
   "cell_type": "markdown",
   "metadata": {},
   "source": [
    "## Weighted sampling of actual world"
   ]
  },
  {
   "cell_type": "markdown",
   "metadata": {},
   "source": [
    "We make the probability that a world is selected as being the actual one identical to the probability assigned to the world."
   ]
  },
  {
   "cell_type": "code",
   "execution_count": null,
   "metadata": {},
   "outputs": [],
   "source": [
    "@everywhere function confSim_weighted(ν::Int64)\n",
    "    @assert ν > 3 # no. of worlds with a minimum of 4\n",
    "    μ   = rand(1:ν-1) # no. of worlds in H, making sure H is not a tautology\n",
    "    κ   = rand(1:ν-1) # no. of worlds in E, making sure E is not a tautology\n",
    "    d   = rand(Dirichlet(ν, 1.))\n",
    "    τ   = sample(Weights(d)) # pick the actual world, where more probable worlds have a correspondingly greater chance of being selected\n",
    "    ζ   = sample(1:ν, κ, replace=false) # which possible worlds are in E\n",
    "    λ   = unique(push!(ζ, τ)) # make sure E is veridical\n",
    "    ϵ   = length(λ) == ν ? popfirst!(λ) : λ # make sure E is non-tautological\n",
    "    ϕ   = sample(1:ν, μ, replace=false) # which possible worlds are in H\n",
    "    b   = issubset(τ, ϕ)\n",
    "    dc  = dif(d, ϕ, ζ)\n",
    "    dp  = deltp(d, ϕ, ζ)\n",
    "    cc  = carn(d, ϕ, ζ)\n",
    "    cr  = ctg(d, ϕ, ζ, 1.)\n",
    "    lr  = lrt(d, ϕ, ζ)\n",
    "    che = cheng(d, ϕ, ζ)\n",
    "    rp  = rips(d, ϕ, ζ)\n",
    "    kop = ko(d, ϕ, ζ)\n",
    "    nz  = noz(d, ϕ, ζ)\n",
    "    mr  = mort(d, ϕ, ζ)\n",
    "    fn  = finch(d, ϕ, ζ)\n",
    "    return b, cc, dp, cr, dc, fn, kop, lr, mr, nz, rp, che\n",
    " end;"
   ]
  },
  {
   "cell_type": "code",
   "execution_count": null,
   "metadata": {},
   "outputs": [],
   "source": [
    "@everywhere function sims_weighted(n_worlds::Int64)\n",
    "    res   = [ confSim_weighted(n_worlds) for _ in 1:1000 ]\n",
    "    df_cf = DataFrame(res)\n",
    "    return [ lrMod(i, df_cf)[1] for i in 1:size(df_cf, 2) - 1 ]\n",
    "end;"
   ]
  },
  {
   "cell_type": "code",
   "execution_count": null,
   "metadata": {},
   "outputs": [],
   "source": [
    "function run_sim_weighted(numb_sim::Int64)\n",
    "    out_ar = Array{Float64,3}(undef, 11, 20, numb_sim)\n",
    "    for i in 1:numb_sim\n",
    "        out_ar[:, :, i] = @distributed (hcat) for n in 5:5:100\n",
    "            sims_weighted(n)\n",
    "        end\n",
    "    end\n",
    "    return out_ar\n",
    "end"
   ]
  },
  {
   "cell_type": "code",
   "execution_count": null,
   "metadata": {},
   "outputs": [],
   "source": [
    "out_ar1 = run_sim_weighted(250);"
   ]
  },
  {
   "cell_type": "code",
   "execution_count": null,
   "metadata": {},
   "outputs": [],
   "source": [
    "[ pvalue(EqualVarianceTTest(out_ar1[3, i, :], out_ar1[6, i, :])) for i in 1:20 ]"
   ]
  },
  {
   "cell_type": "code",
   "execution_count": null,
   "metadata": {},
   "outputs": [],
   "source": [
    "[ pvalue(EqualVarianceTTest(out_ar1[3, i, :], out_ar1[9, i, :])) for i in 1:20 ]"
   ]
  },
  {
   "cell_type": "code",
   "execution_count": null,
   "metadata": {},
   "outputs": [],
   "source": [
    "[ pvalue(EqualVarianceTTest(out_ar1[3, i, :], out_ar1[11, i, :])) for i in 1:20 ]"
   ]
  },
  {
   "cell_type": "code",
   "execution_count": null,
   "metadata": {},
   "outputs": [],
   "source": [
    "[ pvalue(EqualVarianceTTest(out_ar1[6, i, :], out_ar1[11, i, :])) for i in 1:20 ]"
   ]
  },
  {
   "cell_type": "code",
   "execution_count": null,
   "metadata": {},
   "outputs": [],
   "source": [
    "[ bayes_t_test(out_ar1, 3, 6, i) for i in 1:20 ]"
   ]
  },
  {
   "cell_type": "code",
   "execution_count": null,
   "metadata": {},
   "outputs": [],
   "source": [
    "[ bayes_t_test(out_ar1, 3, 11, i) for i in 1:20 ]"
   ]
  },
  {
   "cell_type": "code",
   "execution_count": null,
   "metadata": {},
   "outputs": [],
   "source": [
    "[ bayes_t_test(out_ar1, 6, 11, i) for i in 1:20 ]"
   ]
  },
  {
   "cell_type": "code",
   "execution_count": null,
   "metadata": {},
   "outputs": [],
   "source": [
    "out_auc0 = mean(out_ar1, dims=3);"
   ]
  },
  {
   "cell_type": "code",
   "execution_count": null,
   "metadata": {},
   "outputs": [],
   "source": [
    "function aucPlot()\n",
    "    trace1  = scatter(x=5:5:100, y=out_auc0[1, :], mode=\"lines\", name=\"c\")\n",
    "    trace2  = scatter(x=5:5:100, y=out_auc0[2, :], mode=\"lines\", name=\"s\")\n",
    "    trace3  = scatter(x=5:5:100, y=out_auc0[3, :], mode=\"lines\", name=\"z\")\n",
    "    trace4  = scatter(x=5:5:100, y=out_auc0[4, :], mode=\"lines\", name=\"d\")\n",
    "    trace5  = scatter(x=5:5:100, y=out_auc0[5, :], mode=\"lines\", name=\"r\")\n",
    "    trace6  = scatter(x=5:5:100, y=out_auc0[6, :], mode=\"lines\", name=\"k\")\n",
    "    trace7  = scatter(x=5:5:100, y=out_auc0[7, :], mode=\"lines\", name=\"l\")\n",
    "    trace8  = scatter(x=5:5:100, y=out_auc0[8, :], mode=\"lines\", name=\"m\")\n",
    "    trace9  = scatter(x=5:5:100, y=out_auc0[9, :], mode=\"lines\", name=\"n\")\n",
    "    trace10 = scatter(x=5:5:100, y=out_auc0[10, :], mode=\"lines\", name=\"g\")\n",
    "    layout  = Layout(width=850, height=510, margin=attr(l=70, r=10, t=10, b=70), \n",
    "                     xaxis=attr(title=\"Number of worlds\", tickfont=attr(size=18)), yaxis=attr(tickfont=attr(size=18)), font_size=20, \n",
    "                     annotations=[(x=-0.1, y=.5, xref=\"paper\", yref=\"paper\", text=\"AUC\", showarrow=false, textangle=-90, font=Dict(size=>21))])\n",
    "    data    = [trace1, trace4, trace10, trace6, trace7, trace8, trace9, trace5, trace2, trace3]\n",
    "    Plot(data, layout)\n",
    "end\n",
    "p = aucPlot()"
   ]
  },
  {
   "cell_type": "code",
   "execution_count": null,
   "metadata": {},
   "outputs": [],
   "source": [
    "savefig(p, \"auc_without_weighted.pdf\");"
   ]
  },
  {
   "cell_type": "code",
   "execution_count": null,
   "metadata": {},
   "outputs": [],
   "source": [
    "function aucPlot1()\n",
    "    trace3  = scatter(x=5:5:100, y=out_auc0[3, :], mode=\"lines\", name=\"z\")\n",
    "    trace11 = scatter(x=5:5:100, y=out_auc0[11, :], mode=\"lines\", name=\"ch\")\n",
    "    trace6  = scatter(x=5:5:100, y=out_auc0[6, :], mode=\"lines\", name=\"k\")\n",
    "    layout  = Layout(width=850, height=510, margin=attr(l=70, r=10, t=10, b=70), \n",
    "                     xaxis=attr(title=\"Number of worlds\", tickfont=attr(size=18)), yaxis=attr(tickfont=attr(size=18)), font_size=20, \n",
    "                     annotations=[(x=-0.1, y=.5, xref=\"paper\", yref=\"paper\", text=\"AUC\", showarrow=false, textangle=-90, font=Dict(size=>21))])\n",
    "    data    = [trace11, trace6, trace3]\n",
    "    Plot(data, layout)\n",
    "end\n",
    "q = aucPlot1()"
   ]
  },
  {
   "cell_type": "code",
   "execution_count": null,
   "metadata": {},
   "outputs": [],
   "source": [
    "savefig(q, \"auc_with_weighted_var.pdf\");"
   ]
  },
  {
   "cell_type": "code",
   "execution_count": null,
   "metadata": {},
   "outputs": [],
   "source": [
    "function aucPlot2()\n",
    "    trace03  = scatter(x=5:5:100, y=out_auc[3, :], mode=\"lines\", name=\"z\")\n",
    "    trace011 = scatter(x=5:5:100, y=out_auc[11, :], mode=\"lines\", name=\"ch\")\n",
    "    trace3  = scatter(x=5:5:100, y=out_auc0[3, :], mode=\"lines\", name=\"z (weighted)\")\n",
    "    trace11 = scatter(x=5:5:100, y=out_auc0[11, :], mode=\"lines\", name=\"ch (weighted)\")\n",
    "    layout  = Layout(width=950, height=600, margin=attr(l=70, r=10, t=10, b=70), \n",
    "                     xaxis=attr(title=\"Number of worlds\", tickfont=attr(size=18)), yaxis=attr(tickfont=attr(size=18)), font_size=20, \n",
    "                     annotations=[(x=-0.1, y=.5, xref=\"paper\", yref=\"paper\", text=\"AUC\", showarrow=false, textangle=-90, font=Dict(size=>21))])\n",
    "    data    = [trace011, trace11, trace03, trace3]\n",
    "    Plot(data, layout)\n",
    "end\n",
    "q = aucPlot2()"
   ]
  },
  {
   "cell_type": "code",
   "execution_count": null,
   "metadata": {},
   "outputs": [],
   "source": []
  }
 ],
 "metadata": {
  "kernelspec": {
   "display_name": "Julia 1.4.0",
   "language": "julia",
   "name": "julia-1.4"
  },
  "language_info": {
   "file_extension": ".jl",
   "mimetype": "application/julia",
   "name": "julia",
   "version": "1.4.1"
  }
 },
 "nbformat": 4,
 "nbformat_minor": 4
}
